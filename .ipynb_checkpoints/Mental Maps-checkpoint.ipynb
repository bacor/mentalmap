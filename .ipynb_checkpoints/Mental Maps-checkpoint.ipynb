{
 "cells": [
  {
   "cell_type": "markdown",
   "metadata": {},
   "source": [
    "# Mental Maps\n",
    "Even if you've never seen the map of a city you've been walking around in for a couple of hourse, you can kind of reconstruct the map of the city. That's what this project is about: can we make a model that learns an implicit representation of the map by just walking around?\n",
    "\n",
    "Our maps will be simple binary maps, that we can generate in Google Drive"
   ]
  },
  {
   "cell_type": "code",
   "execution_count": null,
   "metadata": {
    "collapsed": false
   },
   "outputs": [],
   "source": [
    "import numpy as np\n",
    "import matplotlib.pyplot as plt\n",
    "from helpers import *\n",
    "import pickle\n",
    "%matplotlib inline"
   ]
  },
  {
   "cell_type": "code",
   "execution_count": null,
   "metadata": {
    "collapsed": false
   },
   "outputs": [],
   "source": [
    "# Read out the map\n",
    "M = read_map('map2.csv')"
   ]
  },
  {
   "cell_type": "code",
   "execution_count": null,
   "metadata": {
    "collapsed": false
   },
   "outputs": [],
   "source": [
    "# Show the map\n",
    "show_map(M)"
   ]
  },
  {
   "cell_type": "markdown",
   "metadata": {},
   "source": [
    "# Generate training data\n",
    "We can generate an artificial dataset. It will consist of random walks through our map. At every timestep, we can store the local surroundings and later use those as inputs to our RNN. But first, we need the random walks. For that, we use a general function `generate_path` that generates a path using a function `next_step` that returns the next step given the current position. The path generation does the rest.\n",
    "\n",
    "Okay, generate some maps:"
   ]
  },
  {
   "cell_type": "code",
   "execution_count": null,
   "metadata": {
    "collapsed": false
   },
   "outputs": [],
   "source": [
    "def next_step(x, y, Map):\n",
    "    \"\"\"Given the current position and the current map,\n",
    "    get the next step\"\"\"\n",
    "    directions = np.array([[-1,0], [1,0], [0,-1], [0,1]])\n",
    "    next_points = []\n",
    "    for d in directions:\n",
    "        next_x, next_y = (x,y) + d\n",
    "        if Map[next_x, next_y] != 0:\n",
    "            next_points.append((next_x, next_y))\n",
    "\n",
    "    # Pick a random point from the possible points\n",
    "    index = np.random.randint(len(next_points))\n",
    "    return next_points[index]\n",
    "\n",
    "path = generate_path((1,1), 100, M, next_step)"
   ]
  },
  {
   "cell_type": "code",
   "execution_count": null,
   "metadata": {
    "collapsed": false
   },
   "outputs": [],
   "source": [
    "# Get path and split x and y coordinates\n",
    "path = generate_path((1,1), 100, M, next_step)\n",
    "xs = [p[0] for p in path]\n",
    "ys = [p[1] for p in path]\n",
    "plt.plot(xs,ys,'o-')\n",
    "show_map(M)"
   ]
  },
  {
   "cell_type": "markdown",
   "metadata": {},
   "source": [
    "The next step is to generate our training data. It is often convenient to create the training data beforehand and save them to a file. Our training data will consist of sequences of paths, starting from random positions."
   ]
  },
  {
   "cell_type": "code",
   "execution_count": null,
   "metadata": {
    "collapsed": false
   },
   "outputs": [],
   "source": [
    "num_training_instances = 10\n",
    "path_length = 40\n",
    "training_paths = []\n",
    "for n in range(num_training_instances):\n",
    "    allowed_positions = zip(*M.nonzero())\n",
    "    index = np.random.randint(len(allowed_positions))\n",
    "    init = allowed_positions[index]\n",
    "    path = generate_path(init, path_length, M, next_step)\n",
    "    training_paths.append(path)\n",
    "\n",
    "pickle.dump(training_paths, open('data/trainig-random-walks.pickle', 'wb'))"
   ]
  },
  {
   "cell_type": "code",
   "execution_count": null,
   "metadata": {
    "collapsed": true
   },
   "outputs": [],
   "source": []
  }
 ],
 "metadata": {
  "kernelspec": {
   "display_name": "Python 2",
   "language": "python",
   "name": "python2"
  },
  "language_info": {
   "codemirror_mode": {
    "name": "ipython",
    "version": 2
   },
   "file_extension": ".py",
   "mimetype": "text/x-python",
   "name": "python",
   "nbconvert_exporter": "python",
   "pygments_lexer": "ipython2",
   "version": "2.7.11"
  }
 },
 "nbformat": 4,
 "nbformat_minor": 0
}
