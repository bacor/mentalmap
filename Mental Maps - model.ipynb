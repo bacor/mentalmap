{
 "cells": [
  {
   "cell_type": "code",
   "execution_count": 26,
   "metadata": {
    "collapsed": false
   },
   "outputs": [
    {
     "name": "stdout",
     "output_type": "stream",
     "text": [
      "Populating the interactive namespace from numpy and matplotlib\n"
     ]
    },
    {
     "name": "stderr",
     "output_type": "stream",
     "text": [
      "WARNING: pylab import has clobbered these variables: ['colors', 'test']\n",
      "`%matplotlib` prevents importing * from pylab and numpy\n"
     ]
    }
   ],
   "source": [
    "import pickle as pickle\n",
    "from helpers import *\n",
    "from keras.models import Sequential\n",
    "from keras.layers import Dense, Activation, Dropout\n",
    "from keras.layers import LSTM\n",
    "from keras.utils.data_utils import get_file\n",
    "import time\n",
    "%pylab inline"
   ]
  },
  {
   "cell_type": "markdown",
   "metadata": {},
   "source": [
    "# Visualization\n",
    "Let's first visualize our dataset and see what it looks like"
   ]
  },
  {
   "cell_type": "code",
   "execution_count": 2,
   "metadata": {
    "collapsed": true
   },
   "outputs": [],
   "source": [
    "# How big will our views be?\n",
    "view_size = 5\n",
    "border = (view_size - 1) / 2"
   ]
  },
  {
   "cell_type": "code",
   "execution_count": 3,
   "metadata": {
    "collapsed": false
   },
   "outputs": [],
   "source": [
    "# Load map and training data\n",
    "training_data = pickle.load(open('data/test1-train-data.pickle', 'rb'))\n",
    "M = pickle.load(open('data/test1-map.pickle', 'rb'))"
   ]
  },
  {
   "cell_type": "code",
   "execution_count": 4,
   "metadata": {
    "collapsed": false
   },
   "outputs": [
    {
     "data": {
      "image/png": "[encoded data removed]",
      "text/plain": [
       "<matplotlib.figure.Figure at 0x10efa52d0>"
      ]
     },
     "metadata": {},
     "output_type": "display_data"
    }
   ],
   "source": [
    "colors='krgby'\n",
    "for c, path in zip(colors, training_data[10:15]):\n",
    "    show_path(path, color=c)\n",
    "\n",
    "show_map(M, True)"
   ]
  },
  {
   "cell_type": "code",
   "execution_count": 5,
   "metadata": {
    "collapsed": false
   },
   "outputs": [
    {
     "data": {
      "image/png": "[encoded data removed]",
      "text/plain": [
       "<matplotlib.figure.Figure at 0x112933690>"
      ]
     },
     "metadata": {},
     "output_type": "display_data"
    }
   ],
   "source": [
    "show_views(training_data[0][:18], M, size=view_size, plotsize=1.5)"
   ]
  },
  {
   "cell_type": "markdown",
   "metadata": {},
   "source": [
    "# Preprocessing\n",
    "Next, we need to preprocess the data. We have to turn paths into sequences of vectors where every vector represents the local context of a 5x5 area."
   ]
  },
  {
   "cell_type": "code",
   "execution_count": 6,
   "metadata": {
    "collapsed": false
   },
   "outputs": [],
   "source": [
    "seq_len = 20\n",
    "targets = []\n",
    "sequences = []\n",
    "for path in  training_data[:5000]:\n",
    "    zerolist = [0] * (view_size*view_size)\n",
    "    \n",
    "    if len(path) <= seq_len:\n",
    "        path_matrix = []\n",
    "        for p in path:\n",
    "            p_vector = list(get_view(p, M, size=view_size).flatten())\n",
    "            path_matrix.append(p_vector)\n",
    "            \n",
    "        while len(path_matrix) < seq_len:\n",
    "            path_matrix.append(zerolist)\n",
    "        sequences.append(path_matrix)\n",
    "        targets.append(zerolist)\n",
    "    \n",
    "    else:\n",
    "        path_matrix = []\n",
    "        for p in path:\n",
    "            p_vector = list(get_view(p, M, size=view_size).flatten())\n",
    "            path_matrix.append(p_vector)\n",
    "        \n",
    "        for i in range(len(path) - seq_len - 1):\n",
    "            sequences.append(path_matrix[i:i+seq_len])\n",
    "            targets.append(path_matrix[-1])\n",
    "        \n",
    "sequences = np.array(sequences, dtype=np.bool)\n",
    "targets = np.array(targets, dtype=np.bool)"
   ]
  },
  {
   "cell_type": "code",
   "execution_count": 24,
   "metadata": {
    "collapsed": false
   },
   "outputs": [],
   "source": [
    "model = Sequential()\n",
    "model.add(LSTM(50, return_sequences=False, \n",
    "         input_shape=(seq_len, view_size*view_size)))\n",
    "model.add(Dropout(0.2))\n",
    "model.add(Dense(view_size*view_size))\n",
    "model.add(Activation('sigmoid'))\n",
    "\n",
    "model.compile(loss=\"mean_squared_error\", optimizer=\"adam\")"
   ]
  },
  {
   "cell_type": "code",
   "execution_count": 39,
   "metadata": {
    "collapsed": false
   },
   "outputs": [],
   "source": [
    "# Train the model!\n",
    "model.fit(sequences, targets, batch_size=500, nb_epoch=100, verbose=0)\n",
    "time.sleep(0.1)"
   ]
  },
  {
   "cell_type": "code",
   "execution_count": 40,
   "metadata": {
    "collapsed": false
   },
   "outputs": [
    {
     "data": {
      "text/plain": [
       "(1, 20, 25)"
      ]
     },
     "execution_count": 40,
     "metadata": {},
     "output_type": "execute_result"
    }
   ],
   "source": [
    "test = []\n",
    "for p in path[:20]:\n",
    "    p_vector = list(get_view(p, M, size=view_size).flatten())\n",
    "    test.append(p_vector)\n",
    "test = np.array([test])\n",
    "test.shape"
   ]
  },
  {
   "cell_type": "code",
   "execution_count": 41,
   "metadata": {
    "collapsed": false
   },
   "outputs": [],
   "source": [
    "pred = model.predict([test])"
   ]
  },
  {
   "cell_type": "code",
   "execution_count": 46,
   "metadata": {
    "collapsed": false
   },
   "outputs": [
    {
     "data": {
      "text/plain": [
       "array([[ 0.06503274,  0.06234716,  0.13853937,  0.06426764,  0.06801032,\n",
       "         0.05622429,  0.06146559,  0.16421834,  0.04005959,  0.0518083 ,\n",
       "         0.10913586,  0.12763382,  0.26861691,  0.14110288,  0.13125852,\n",
       "         0.06083004,  0.04899644,  0.16924557,  0.06058617,  0.05248361,\n",
       "         0.05337154,  0.05735446,  0.13623619,  0.06963217,  0.06230379]])"
      ]
     },
     "execution_count": 46,
     "metadata": {},
     "output_type": "execute_result"
    }
   ],
   "source": [
    "pred"
   ]
  },
  {
   "cell_type": "code",
   "execution_count": 44,
   "metadata": {
    "collapsed": false
   },
   "outputs": [
    {
     "data": {
      "image/png": "[encoded data removed]",
      "text/plain": [
       "<matplotlib.figure.Figure at 0x110da6950>"
      ]
     },
     "metadata": {},
     "output_type": "display_data"
    }
   ],
   "source": [
    "show_map(pred.reshape(5,5))"
   ]
  },
  {
   "cell_type": "code",
   "execution_count": 34,
   "metadata": {
    "collapsed": false
   },
   "outputs": [
    {
     "name": "stdout",
     "output_type": "stream",
     "text": [
      "25\n"
     ]
    },
    {
     "data": {
      "image/png": "[encoded data removed]",
      "text/plain": [
       "<matplotlib.figure.Figure at 0x1170a80d0>"
      ]
     },
     "metadata": {},
     "output_type": "display_data"
    }
   ],
   "source": [
    "path = generate_path((2,25), 25, M)\n",
    "show_path(path)\n",
    "print len(path)\n",
    "show_map(M)"
   ]
  },
  {
   "cell_type": "code",
   "execution_count": null,
   "metadata": {
    "collapsed": true
   },
   "outputs": [],
   "source": []
  }
 ],
 "metadata": {
  "kernelspec": {
   "display_name": "Python 2",
   "language": "python",
   "name": "python2"
  },
  "language_info": {
   "codemirror_mode": {
    "name": "ipython",
    "version": 2
   },
   "file_extension": ".py",
   "mimetype": "text/x-python",
   "name": "python",
   "nbconvert_exporter": "python",
   "pygments_lexer": "ipython2",
   "version": "2.7.11"
  }
 },
 "nbformat": 4,
 "nbformat_minor": 0
}
