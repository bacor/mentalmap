{
 "cells": [
  {
   "cell_type": "markdown",
   "metadata": {},
   "source": [
    "# Mental Maps\n",
    "Even if you've never seen the map of a city you've been walking around in for a couple of hourse, you can kind of reconstruct the map of the city. That's what this project is about: can we make a model that learns an implicit representation of the map by just walking around?\n",
    "\n",
    "Our maps will be simple binary maps, that we can generate in Google Drive"
   ]
  },
  {
   "cell_type": "code",
   "execution_count": 1,
   "metadata": {
    "collapsed": false
   },
   "outputs": [],
   "source": [
    "import numpy as np\n",
    "import matplotlib.pyplot as plt\n",
    "from helpers import *\n",
    "import pickle\n",
    "%matplotlib inline"
   ]
  },
  {
   "cell_type": "code",
   "execution_count": 2,
   "metadata": {
    "collapsed": true
   },
   "outputs": [],
   "source": [
    "# How big will our views be?\n",
    "view_size = 5\n",
    "border = (view_size - 1) / 2"
   ]
  },
  {
   "cell_type": "code",
   "execution_count": 3,
   "metadata": {
    "collapsed": false
   },
   "outputs": [
    {
     "data": {
      "image/png": "[encoded data removed]",
      "text/plain": [
       "<matplotlib.figure.Figure at 0x10a1c04d0>"
      ]
     },
     "metadata": {},
     "output_type": "display_data"
    }
   ],
   "source": [
    "# Read out the map\n",
    "M = load_map('map2.csv', border=border)\n",
    "\n",
    "# Show the map\n",
    "show_map(M, True)"
   ]
  },
  {
   "cell_type": "markdown",
   "metadata": {},
   "source": [
    "# Generate training data\n",
    "We can generate an artificial dataset. It will consist of random walks through our map. At every timestep, we can store the local surroundings and later use those as inputs to our RNN. But first, we need the random walks... "
   ]
  },
  {
   "cell_type": "code",
   "execution_count": 4,
   "metadata": {
    "collapsed": false
   },
   "outputs": [
    {
     "data": {
      "image/png": "[encoded data removed]",
      "text/plain": [
       "<matplotlib.figure.Figure at 0x10f565310>"
      ]
     },
     "metadata": {},
     "output_type": "display_data"
    }
   ],
   "source": [
    "# Get path and split x and y coordinates\n",
    "init = (border, border)\n",
    "path = generate_path(init, 1000, M)\n",
    "show_path(path, color='r')\n",
    "show_map(M)"
   ]
  },
  {
   "cell_type": "code",
   "execution_count": 5,
   "metadata": {
    "collapsed": false
   },
   "outputs": [
    {
     "data": {
      "image/png": "[encoded data removed]",
      "text/plain": [
       "<matplotlib.figure.Figure at 0x10f650350>"
      ]
     },
     "metadata": {},
     "output_type": "display_data"
    }
   ],
   "source": [
    "show_views(path[:18], M, size=view_size, plotsize=1.5)"
   ]
  },
  {
   "cell_type": "markdown",
   "metadata": {},
   "source": [
    "The next step is to generate our training data. It is often convenient to create the training data beforehand and save them to a file. Our training data will consist of sequences of paths, starting from random positions."
   ]
  },
  {
   "cell_type": "code",
   "execution_count": 6,
   "metadata": {
    "collapsed": false
   },
   "outputs": [],
   "source": [
    "# How many training instances do you need?\n",
    "num_training_instances = 20000\n",
    "\n",
    "# What is the maximum length of the path?\n",
    "path_length = 80\n",
    "\n",
    "training_paths = []\n",
    "for n in range(num_training_instances):\n",
    "    \n",
    "    # Pick a random allowed (i.e., on a road) initial position\n",
    "    allowed_positions = zip(*M.nonzero())\n",
    "    index = np.random.randint(len(allowed_positions))\n",
    "    init = allowed_positions[index]\n",
    "    \n",
    "    # Generate and store a path from there\n",
    "    path = generate_path((init[1], init[0]), path_length, M)\n",
    "    if len(path) < path_length:\n",
    "        path.append((0,0))\n",
    "    training_paths.append(path)\n",
    "\n",
    "# Store\n",
    "name = \"test1\"\n",
    "pickle.dump(training_paths, open('data/{name}-train-data.pickle'.format(name=name), 'wb'))\n",
    "pickle.dump(M, open('data/{name}-map.pickle'.format(name=name), 'wb'))"
   ]
  },
  {
   "cell_type": "markdown",
   "metadata": {},
   "source": [
    "# The model\n",
    "Yes, have fun with that :-)"
   ]
  }
 ],
 "metadata": {
  "kernelspec": {
   "display_name": "Python 2",
   "language": "python",
   "name": "python2"
  },
  "language_info": {
   "codemirror_mode": {
    "name": "ipython",
    "version": 2
   },
   "file_extension": ".py",
   "mimetype": "text/x-python",
   "name": "python",
   "nbconvert_exporter": "python",
   "pygments_lexer": "ipython2",
   "version": "2.7.11"
  }
 },
 "nbformat": 4,
 "nbformat_minor": 0
}
